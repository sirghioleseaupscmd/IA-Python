{
 "cells": [
  {
   "cell_type": "code",
   "execution_count": 1,
   "id": "df80c999",
   "metadata": {},
   "outputs": [
    {
     "name": "stdout",
     "output_type": "stream",
     "text": [
      "[1, 2, 3, 4, 5, 6, 7]\n"
     ]
    }
   ],
   "source": [
    "list1=[1,2,3,4,5,6,7]\n",
    "print(list1)"
   ]
  },
  {
   "cell_type": "code",
   "execution_count": 2,
   "id": "43921a65",
   "metadata": {},
   "outputs": [
    {
     "name": "stdout",
     "output_type": "stream",
     "text": [
      "[12, 11, 34, 56, 23, 32, 22]\n"
     ]
    }
   ],
   "source": [
    "list1=[12,11,34,56,23,32,22]\n",
    "print(list1)"
   ]
  },
  {
   "cell_type": "code",
   "execution_count": 3,
   "id": "4d7f9545",
   "metadata": {},
   "outputs": [
    {
     "name": "stdout",
     "output_type": "stream",
     "text": [
      "32\n"
     ]
    }
   ],
   "source": [
    "print(list1[5])"
   ]
  },
  {
   "cell_type": "code",
   "execution_count": 4,
   "id": "f74f42e3",
   "metadata": {},
   "outputs": [
    {
     "name": "stdout",
     "output_type": "stream",
     "text": [
      "11\n"
     ]
    }
   ],
   "source": [
    "print(list1[1])"
   ]
  },
  {
   "cell_type": "code",
   "execution_count": 5,
   "id": "c7dca921",
   "metadata": {},
   "outputs": [
    {
     "name": "stdout",
     "output_type": "stream",
     "text": [
      "22\n"
     ]
    }
   ],
   "source": [
    "print(list1[-1])"
   ]
  },
  {
   "cell_type": "code",
   "execution_count": 6,
   "id": "c4f72111",
   "metadata": {},
   "outputs": [
    {
     "name": "stdout",
     "output_type": "stream",
     "text": [
      "[12, 11, 34, 56, 23, 32, 22, 33, 30]\n"
     ]
    }
   ],
   "source": [
    "list1=[12,11,34,56,23,32,22,33,30]\n",
    "print(list1)"
   ]
  },
  {
   "cell_type": "code",
   "execution_count": 7,
   "id": "ce949069",
   "metadata": {},
   "outputs": [
    {
     "name": "stdout",
     "output_type": "stream",
     "text": [
      "[34, 56, 23]\n"
     ]
    }
   ],
   "source": [
    "print(list1[2:5])"
   ]
  },
  {
   "cell_type": "code",
   "execution_count": 8,
   "id": "07e8b59b",
   "metadata": {},
   "outputs": [
    {
     "name": "stdout",
     "output_type": "stream",
     "text": [
      "[12, 11, 34, 56, 23]\n"
     ]
    }
   ],
   "source": [
    "print(list1[:5])"
   ]
  },
  {
   "cell_type": "code",
   "execution_count": 9,
   "id": "c643144e",
   "metadata": {},
   "outputs": [
    {
     "name": "stdout",
     "output_type": "stream",
     "text": [
      "[32, 22, 33, 30]\n"
     ]
    }
   ],
   "source": [
    "print(list1[5:])"
   ]
  },
  {
   "cell_type": "code",
   "execution_count": 10,
   "id": "3ca3d230",
   "metadata": {},
   "outputs": [
    {
     "name": "stdout",
     "output_type": "stream",
     "text": [
      "[12, 11, 34, 56, 23, 32, 22, 33, 30]\n"
     ]
    }
   ],
   "source": [
    "list1=[12,11,34,56,23,32,22,33,30]\n",
    "print(list1)"
   ]
  },
  {
   "cell_type": "code",
   "execution_count": 11,
   "id": "0b0f05aa",
   "metadata": {},
   "outputs": [
    {
     "name": "stdout",
     "output_type": "stream",
     "text": [
      "[12, 34, 23, 22, 30]\n"
     ]
    }
   ],
   "source": [
    "print(list1[0::2])"
   ]
  },
  {
   "cell_type": "code",
   "execution_count": 12,
   "id": "66a68916",
   "metadata": {},
   "outputs": [
    {
     "name": "stdout",
     "output_type": "stream",
     "text": [
      "[30, 33, 22, 32, 23, 56, 34, 11, 12]\n"
     ]
    }
   ],
   "source": [
    "# 3 metoda - am inversat la afisare numerele unei liste\n",
    "print(list1[::-1])"
   ]
  },
  {
   "cell_type": "code",
   "execution_count": 13,
   "id": "20da0ead",
   "metadata": {},
   "outputs": [
    {
     "name": "stdout",
     "output_type": "stream",
     "text": [
      "[12, 11, 34, 56, 23, 32, 22, 33, 30]\n"
     ]
    }
   ],
   "source": [
    "list1=[12,11,34,56,23,32,22,33,30]\n",
    "print(list1)"
   ]
  },
  {
   "cell_type": "code",
   "execution_count": 14,
   "id": "7486d866",
   "metadata": {},
   "outputs": [
    {
     "name": "stdout",
     "output_type": "stream",
     "text": [
      "[12, 0, 34, 56, 23, 32, 22, 33, 30]\n"
     ]
    }
   ],
   "source": [
    "list1[1]=0\n",
    "print(list1)"
   ]
  },
  {
   "cell_type": "code",
   "execution_count": 15,
   "id": "e1217750",
   "metadata": {},
   "outputs": [
    {
     "name": "stdout",
     "output_type": "stream",
     "text": [
      "9\n"
     ]
    }
   ],
   "source": [
    "print(len(list1))"
   ]
  },
  {
   "cell_type": "code",
   "execution_count": 17,
   "id": "036ef3eb",
   "metadata": {},
   "outputs": [
    {
     "name": "stdout",
     "output_type": "stream",
     "text": [
      "Suma numerelor din sir = >  242\n"
     ]
    }
   ],
   "source": [
    "#calculul sumei numerelor unei liste\n",
    "s=0\n",
    "for i in range (len(list1)):\n",
    "    s+=list1[i]\n",
    "print(\"Suma numerelor din sir = > \",s)"
   ]
  },
  {
   "cell_type": "code",
   "execution_count": 18,
   "id": "7b756193",
   "metadata": {},
   "outputs": [
    {
     "name": "stdout",
     "output_type": "stream",
     "text": [
      "[12, 0, 34, 56, 23, 32, 22, 33, 30]\n"
     ]
    }
   ],
   "source": [
    "print(list1)"
   ]
  },
  {
   "cell_type": "code",
   "execution_count": 20,
   "id": "fabfdd43",
   "metadata": {},
   "outputs": [
    {
     "name": "stdout",
     "output_type": "stream",
     "text": [
      "30 33 22 32 23 56 34 0 12 "
     ]
    }
   ],
   "source": [
    "# 2 metoda - inversarea elementelor unei liste\n",
    "for i in reversed(list1):\n",
    "    print(i, end=\" \")"
   ]
  },
  {
   "cell_type": "code",
   "execution_count": 21,
   "id": "854ac733",
   "metadata": {},
   "outputs": [
    {
     "name": "stdout",
     "output_type": "stream",
     "text": [
      "[12, 11, 34, 56, 23, 32, 22, 33, 30]\n"
     ]
    }
   ],
   "source": [
    "list1=[12,11,34,56,23,32,22,33,30]\n",
    "print(list1)"
   ]
  },
  {
   "cell_type": "code",
   "execution_count": 22,
   "id": "2ca7c172",
   "metadata": {},
   "outputs": [
    {
     "name": "stdout",
     "output_type": "stream",
     "text": [
      "[30, 33, 22, 32, 23, 56, 34, 11, 12]\n"
     ]
    }
   ],
   "source": [
    "# 3 metoda de inversare a listei\n",
    "list2=list(reversed(list1))\n",
    "print(list2)"
   ]
  },
  {
   "cell_type": "code",
   "execution_count": 28,
   "id": "6a0bc9f4",
   "metadata": {
    "scrolled": true
   },
   "outputs": [
    {
     "name": "stdout",
     "output_type": "stream",
     "text": [
      "Scrim cuvinte, caractere si propozitii\n"
     ]
    }
   ],
   "source": [
    "sir2=\"Scrim cuvinte, caractere si propozitii\"\n",
    "print(sir2)"
   ]
  },
  {
   "cell_type": "code",
   "execution_count": 27,
   "id": "581fae2d",
   "metadata": {},
   "outputs": [
    {
     "name": "stdout",
     "output_type": "stream",
     "text": [
      "Scrim cuvinte, caractere si propozitii\n"
     ]
    }
   ],
   "source": [
    "sir1='Scrim cuvinte, caractere si propozitii'\n",
    "print(sir1)"
   ]
  },
  {
   "cell_type": "code",
   "execution_count": 29,
   "id": "6a88807a",
   "metadata": {},
   "outputs": [
    {
     "name": "stdout",
     "output_type": "stream",
     "text": [
      "Scrim un text pe mai multe randuri.\n",
      "Ca de exemplu, acum suntem pe randul 2.\n",
      "Iar acum pe randul 3.\n"
     ]
    }
   ],
   "source": [
    "sir3='''Scrim un text pe mai multe randuri.\n",
    "Ca de exemplu, acum suntem pe randul 2.\n",
    "Iar acum pe randul 3.'''\n",
    "print(sir3)"
   ]
  },
  {
   "cell_type": "code",
   "execution_count": 32,
   "id": "e041c47b",
   "metadata": {},
   "outputs": [
    {
     "name": "stdout",
     "output_type": "stream",
     "text": [
      "['Scrim', 'un', 'text', 'pe', 'mai', 'multe', 'randuri.', 'Ca', 'de', 'exemplu,', 'acum', 'suntem', 'pe', 'randul', '2.', 'Iar', 'acum', 'pe', 'randul', '3.']\n"
     ]
    }
   ],
   "source": [
    "# \n",
    "sir3='''Scrim un text pe mai multe randuri.\n",
    "Ca de exemplu, acum suntem pe randul 2.\n",
    "Iar acum pe randul 3.'''\n",
    "cuvinte=sir3.split()\n",
    "print(cuvinte)"
   ]
  },
  {
   "cell_type": "code",
   "execution_count": 33,
   "id": "ffe22372",
   "metadata": {},
   "outputs": [
    {
     "name": "stdout",
     "output_type": "stream",
     "text": [
      "['S', 'c', 'r', 'i', 'm', ' ', 'u', 'n', ' ', 't', 'e', 'x', 't', ' ', 'p', 'e', ' ', 'm', 'a', 'i', ' ', 'm', 'u', 'l', 't', 'e', ' ', 'r', 'a', 'n', 'd', 'u', 'r', 'i', '.', '\\n', 'C', 'a', ' ', 'd', 'e', ' ', 'e', 'x', 'e', 'm', 'p', 'l', 'u', ',', ' ', 'a', 'c', 'u', 'm', ' ', 's', 'u', 'n', 't', 'e', 'm', ' ', 'p', 'e', ' ', 'r', 'a', 'n', 'd', 'u', 'l', ' ', '2', '.', '\\n', 'I', 'a', 'r', ' ', 'a', 'c', 'u', 'm', ' ', 'p', 'e', ' ', 'r', 'a', 'n', 'd', 'u', 'l', ' ', '3', '.']\n"
     ]
    }
   ],
   "source": [
    "d=list(sir3)\n",
    "print(d)"
   ]
  },
  {
   "cell_type": "code",
   "execution_count": 40,
   "id": "346e7e65",
   "metadata": {},
   "outputs": [
    {
     "name": "stdout",
     "output_type": "stream",
     "text": [
      "['Salut', ' Sunt Victor', ' orasul etse Chisinau', ' multumesc', ' O zi buna', '']\n"
     ]
    }
   ],
   "source": [
    "# creat o lista de substringuri care au fost obtinute la separare dupa caracterul '.'\n",
    "sir3=\"Salut. Sunt Victor. orasul etse Chisinau. multumesc. O zi buna.\"\n",
    "g=sir3.split('.')\n",
    "print(g)"
   ]
  },
  {
   "cell_type": "code",
   "execution_count": 42,
   "id": "3d1c2d4d",
   "metadata": {},
   "outputs": [
    {
     "name": "stdout",
     "output_type": "stream",
     "text": [
      "Sunt  4  Litere de a in propozitie\n"
     ]
    }
   ],
   "source": [
    "#Numarul de litere 'a' intr-un string (in propozitie)\n",
    "p=\"vAionul are aripi albe.\"\n",
    "count=0\n",
    "for litera in p:\n",
    "    if (litera=='a')or(litera=='A'):\n",
    "        count+=1\n",
    "print('Sunt ', count,' Litere de a in propozitie')"
   ]
  },
  {
   "cell_type": "code",
   "execution_count": null,
   "id": "1fbf9309",
   "metadata": {},
   "outputs": [],
   "source": [
    "#Determinati numarul de propozitii intr-un text:\n",
    "# daca sfarsit de propozitie este '.'\n",
    "# daca sfarsit de propozitie poate fi: ?, !, '.'"
   ]
  }
 ],
 "metadata": {
  "kernelspec": {
   "display_name": "Python 3 (ipykernel)",
   "language": "python",
   "name": "python3"
  },
  "language_info": {
   "codemirror_mode": {
    "name": "ipython",
    "version": 3
   },
   "file_extension": ".py",
   "mimetype": "text/x-python",
   "name": "python",
   "nbconvert_exporter": "python",
   "pygments_lexer": "ipython3",
   "version": "3.7.9"
  }
 },
 "nbformat": 4,
 "nbformat_minor": 5
}
