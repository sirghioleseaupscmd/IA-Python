{
 "cells": [
  {
   "cell_type": "code",
   "execution_count": 45,
   "id": "b22a4067",
   "metadata": {},
   "outputs": [
    {
     "name": "stdout",
     "output_type": "stream",
     "text": [
      "(10, 20, 'Da', 'Nu', 'Nu stiu', [1, 2, 'a'], 0)\n"
     ]
    }
   ],
   "source": [
    "# Tuplu - etructura de reprezentare de date asemanatoare cu lista\n",
    "# elementele ntr-un tuplu pot fi de diferite tipuri \n",
    "# intr-n tuplu nu pot fi tupluri ci pot fi liste\n",
    "#Tuplu - nu poate fi schimbat, modificat odata creat\n",
    "# intr-un tuplu nu putem modifuca valorile elementelor, odata ce-i creat\n",
    "# Tuplu este constant\n",
    "# tuplurile sunt craete si reprezentate cu sau fara paranteze ()\n",
    "tp1=(10,20,'Da','Nu','Nu stiu',[1,2,'a'], 0)\n",
    "print(tp1)"
   ]
  },
  {
   "cell_type": "code",
   "execution_count": 46,
   "id": "09c92210",
   "metadata": {},
   "outputs": [
    {
     "name": "stdout",
     "output_type": "stream",
     "text": [
      "(100, 200, 'Da', 'Nu')\n",
      "<class 'tuple'>\n"
     ]
    }
   ],
   "source": [
    "tp2=100,200,'Da','Nu'\n",
    "print(tp2)\n",
    "print(type(tp2))"
   ]
  },
  {
   "cell_type": "code",
   "execution_count": 47,
   "id": "c0a4052e",
   "metadata": {},
   "outputs": [
    {
     "name": "stdout",
     "output_type": "stream",
     "text": [
      "100\n",
      "200\n",
      "Da\n",
      "Nu\n"
     ]
    }
   ],
   "source": [
    "# am atribuit valorile elementelor unui tuplu tp2 in variabile\n",
    "a,b,c,d = tp2\n",
    "print(a)\n",
    "print(b)\n",
    "print(c)\n",
    "print(d)"
   ]
  },
  {
   "cell_type": "code",
   "execution_count": 48,
   "id": "be5f16d6",
   "metadata": {},
   "outputs": [
    {
     "name": "stdout",
     "output_type": "stream",
     "text": [
      "[100, 200, 'Da', 'Nu']\n"
     ]
    }
   ],
   "source": [
    "# am transferat elementele dintr-un tuplu intr-o lista\n",
    "# aceste valori fiind in lista, deja pot fi si modificate\n",
    "a=[]\n",
    "for i in range(0,4):\n",
    "    a.append(tp2[i])\n",
    "print(a)"
   ]
  },
  {
   "cell_type": "code",
   "execution_count": 49,
   "id": "e9534763",
   "metadata": {},
   "outputs": [],
   "source": [
    "# nu putem face stergerea  elementelor din tuplu\n",
    "# nu putem adauga elemente in tuplu\n"
   ]
  },
  {
   "cell_type": "code",
   "execution_count": 50,
   "id": "a1b4d29d",
   "metadata": {
    "scrolled": true
   },
   "outputs": [
    {
     "name": "stdout",
     "output_type": "stream",
     "text": [
      "[1, 2, 'a', 'da', 'AB', 'CD', 'GF']\n"
     ]
    }
   ],
   "source": [
    "#TRANSFORMAREA UNEI LISTE COMPLEXE formate din mai multe subliste,\n",
    "# intr-o lista liniara\n",
    "l1=[[1],[2],['a','da'],['AB','CD','GF']]\n",
    "l2=[]\n",
    "for subsir in l1:\n",
    "    for elem in subsir:\n",
    "        l2.append(elem)\n",
    "print(l2)"
   ]
  },
  {
   "cell_type": "code",
   "execution_count": 54,
   "id": "7f6d1beb",
   "metadata": {},
   "outputs": [
    {
     "name": "stdout",
     "output_type": "stream",
     "text": [
      "['j1', 2, 'a', 'da', 'AB', 'CD', 'GF']\n"
     ]
    }
   ],
   "source": [
    "# folosim modul itertools\n",
    "import itertools\n",
    "l1=[['j1'],[2],['a','da'],['AB','CD','GF']]\n",
    "l2=list(itertools.chain(*l1))\n",
    "print(l2)"
   ]
  },
  {
   "cell_type": "code",
   "execution_count": 55,
   "id": "b763c560",
   "metadata": {},
   "outputs": [
    {
     "name": "stdout",
     "output_type": "stream",
     "text": [
      "[('a', 'b', 'c'), ('a', 'c', 'b'), ('b', 'a', 'c'), ('b', 'c', 'a'), ('c', 'a', 'b'), ('c', 'b', 'a')]\n"
     ]
    }
   ],
   "source": [
    "#efisarea tutror combinarilor sau permutarilor unei liste\n",
    "import itertools\n",
    "lst=['a','b','c']\n",
    "perm=list(itertools.permutations(lst))\n",
    "print(perm)"
   ]
  },
  {
   "cell_type": "code",
   "execution_count": null,
   "id": "5c4ec8eb",
   "metadata": {},
   "outputs": [],
   "source": [
    "# homework 4 - cititi de la tastatura un text mare\n",
    "# initial introduceti textul intr-o variavila string\n",
    "# eliminati/ strgeti din text toate semnele de punctuati\n",
    "# ?!,><=_+/\\. - lista semnelor de punctuatie sa fie padtrata intr-un tuplu\n",
    "# text='''................... '''\n",
    "# semn=(\"?\",\"''\",!,><=_+/\\.)\n",
    "# for elem in text if elem in semn:\n",
    "# text_nou=''\n"
   ]
  }
 ],
 "metadata": {
  "kernelspec": {
   "display_name": "Python 3 (ipykernel)",
   "language": "python",
   "name": "python3"
  },
  "language_info": {
   "codemirror_mode": {
    "name": "ipython",
    "version": 3
   },
   "file_extension": ".py",
   "mimetype": "text/x-python",
   "name": "python",
   "nbconvert_exporter": "python",
   "pygments_lexer": "ipython3",
   "version": "3.7.9"
  }
 },
 "nbformat": 4,
 "nbformat_minor": 5
}
