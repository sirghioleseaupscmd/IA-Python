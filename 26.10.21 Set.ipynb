{
 "cells": [
  {
   "cell_type": "code",
   "execution_count": 6,
   "id": "bdb59e50",
   "metadata": {},
   "outputs": [
    {
     "name": "stdout",
     "output_type": "stream",
     "text": [
      "{1, 2, 3, 4, 5, 6}\n",
      "{3.14, 'Inteligenta', (23, 'Nu')}\n",
      "{3, 4, 5, 6}\n"
     ]
    }
   ],
   "source": [
    "#Tipul de date Set - multime\n",
    "# crearea multimelor se face cu {} sau set({})\n",
    "m1={3,6,2,4,1,2,5,6}\n",
    "print(m1)\n",
    "m2={3.14,\"Inteligenta\", (23,\"Nu\")}\n",
    "print(m2)\n",
    "m3=set({3,4,5,6})\n",
    "print(m3)\n"
   ]
  },
  {
   "cell_type": "code",
   "execution_count": 8,
   "id": "350467ac",
   "metadata": {},
   "outputs": [
    {
     "name": "stdout",
     "output_type": "stream",
     "text": [
      "<class 'dict'>\n",
      "<class 'set'>\n"
     ]
    }
   ],
   "source": [
    "# curatarea multimilor, identificarea tipului variabilelor\n",
    "d={}\n",
    "print(type(d))\n",
    "m3=set()\n",
    "print(type(m3))"
   ]
  },
  {
   "cell_type": "code",
   "execution_count": 9,
   "id": "c02464a8",
   "metadata": {},
   "outputs": [
    {
     "name": "stdout",
     "output_type": "stream",
     "text": [
      "{1, 2, 3, 4, 5, 6, 23}\n"
     ]
    }
   ],
   "source": [
    "# adaugarea unui element in multime\n",
    "m1.add(23)\n",
    "print(m1)"
   ]
  },
  {
   "cell_type": "code",
   "execution_count": 10,
   "id": "8fbcc091",
   "metadata": {},
   "outputs": [
    {
     "name": "stdout",
     "output_type": "stream",
     "text": [
      "{1, 2, 3, 4, 5, 6, 20, 23}\n"
     ]
    }
   ],
   "source": [
    "m1.add(20)\n",
    "print(m1)"
   ]
  },
  {
   "cell_type": "code",
   "execution_count": 11,
   "id": "182539f9",
   "metadata": {},
   "outputs": [
    {
     "name": "stdout",
     "output_type": "stream",
     "text": [
      "{1, 2, 3, 4, 5, 6, 11, 20, 23}\n"
     ]
    }
   ],
   "source": [
    "#Adaugarea unuia sau a mai multor elemente in multime\n",
    "m1.update([3,5,11])\n",
    "print(m1)"
   ]
  },
  {
   "cell_type": "code",
   "execution_count": 12,
   "id": "84288775",
   "metadata": {},
   "outputs": [
    {
     "name": "stdout",
     "output_type": "stream",
     "text": [
      "{3.14, (23, 'Nu')}\n"
     ]
    }
   ],
   "source": [
    "# Eliminarea sau stergerea elementelor din multime\n",
    "m2.discard(\"Inteligenta\")\n",
    "print(m2)"
   ]
  },
  {
   "cell_type": "code",
   "execution_count": 13,
   "id": "285cca61",
   "metadata": {},
   "outputs": [
    {
     "name": "stdout",
     "output_type": "stream",
     "text": [
      "{1, 2, 3, 4, 5, 6, 20, 23}\n"
     ]
    }
   ],
   "source": [
    "m1.remove(11)\n",
    "print(m1)"
   ]
  },
  {
   "cell_type": "code",
   "execution_count": 14,
   "id": "a0cc7c01",
   "metadata": {},
   "outputs": [
    {
     "name": "stdout",
     "output_type": "stream",
     "text": [
      "{2, 3, 4, 5, 6, 20, 23}\n"
     ]
    }
   ],
   "source": [
    "m1.pop()\n",
    "print(m1)"
   ]
  },
  {
   "cell_type": "code",
   "execution_count": 15,
   "id": "d45a9885",
   "metadata": {},
   "outputs": [
    {
     "name": "stdout",
     "output_type": "stream",
     "text": [
      "2\n"
     ]
    }
   ],
   "source": [
    "print(m1.pop())"
   ]
  },
  {
   "cell_type": "code",
   "execution_count": 16,
   "id": "39fb5900",
   "metadata": {},
   "outputs": [
    {
     "name": "stdout",
     "output_type": "stream",
     "text": [
      "set()\n"
     ]
    }
   ],
   "source": [
    "# curatare a multimii - metoda a doua\n",
    "m2.clear()\n",
    "print(m2)"
   ]
  },
  {
   "cell_type": "code",
   "execution_count": 23,
   "id": "cfe15713",
   "metadata": {},
   "outputs": [
    {
     "name": "stdout",
     "output_type": "stream",
     "text": [
      "{1, 2, 3, 4, 5, 6, 7, 8, 9, 10}\n",
      "{3, 4, 5, 6, 7, 8, 9, 10, 40, 20, 30}\n"
     ]
    }
   ],
   "source": [
    "#Operatii asupra multimilor\n",
    "# unire - reuniunea multimilor\n",
    "a={1,2,3,4,5}\n",
    "b={3,4,5,6,7,8,9,10}\n",
    "d={10, 20, 30, 40, 9}\n",
    "#c=a.union(b)\n",
    "#print(c)\n",
    "print(a.union(b))\n",
    "print(b | d)"
   ]
  },
  {
   "cell_type": "code",
   "execution_count": 24,
   "id": "0f519798",
   "metadata": {},
   "outputs": [
    {
     "name": "stdout",
     "output_type": "stream",
     "text": [
      "{3, 4, 5}\n"
     ]
    }
   ],
   "source": [
    "# operator de intersectie a multimilor\n",
    "\n",
    "# reuniune=a&b\n",
    "# print(reuniune)\n",
    "print(a.intersection(b))"
   ]
  },
  {
   "cell_type": "code",
   "execution_count": 26,
   "id": "fcf69580",
   "metadata": {},
   "outputs": [
    {
     "name": "stdout",
     "output_type": "stream",
     "text": [
      "{6, 7, 8, 9, 10}\n",
      "{40, 20, 30}\n"
     ]
    }
   ],
   "source": [
    "# diferenta multimilor\n",
    "a={1,2,3,4,5}\n",
    "b={3,4,5,6,7,8,9,10}\n",
    "d={10, 20, 30, 40, 9}\n",
    "# I metoda de diferenta\n",
    "difm=b-a\n",
    "print(difm)\n",
    "# metoda 2 - de diferentiere a multimilor\n",
    "dm2=d.difference(b)\n",
    "print(dm2)"
   ]
  },
  {
   "cell_type": "code",
   "execution_count": 33,
   "id": "da959ff1",
   "metadata": {},
   "outputs": [
    {
     "name": "stdout",
     "output_type": "stream",
     "text": [
      "{3, 4, 5, 6, 7, 8, 40, 20, 30}\n",
      "{1, 2, 6, 7, 8, 9, 10}\n"
     ]
    }
   ],
   "source": [
    "a={1,2,3,4,5}\n",
    "b={3,4,5,6,7,8,9,10}\n",
    "d={10, 20, 30, 40, 9}\n",
    "# diferenta simetrica dintre multimi\n",
    "# metoda 1\n",
    "ds1=d^b\n",
    "print(ds1)\n",
    "# metoda 2 \n",
    "ds2=b.symmetric_difference(a)\n",
    "print(ds2)"
   ]
  },
  {
   "cell_type": "code",
   "execution_count": 41,
   "id": "88fca60c",
   "metadata": {},
   "outputs": [
    {
     "name": "stdout",
     "output_type": "stream",
     "text": [
      "{'2', 'e', ' ', '6', 'a', 't', '1', '.', 'd', '0', 's', 'E'}\n",
      "Prezenta literei z in multime  False\n",
      "{'2', ' ', '6', 't', '1', '.', 'd', '0', 's', 'E'}\n"
     ]
    }
   ],
   "source": [
    "# iterarea multimilor după elemente\n",
    "# pentru tipul set nu exista indexarea elementelor, nu putem face iterare dupa indice\n",
    "propozitie=(\"Este data de 26.10.21\")\n",
    "m=set(propozitie)\n",
    "print(m)\n",
    "vocal={'a','o','u','i','e'}\n",
    "print('Prezenta literei z in multime ','z'in m)\n",
    "for element in set(m):\n",
    "    if element in vocal:\n",
    "        m.remove(element)\n",
    "print(m)    "
   ]
  },
  {
   "cell_type": "code",
   "execution_count": 42,
   "id": "0d594676",
   "metadata": {},
   "outputs": [
    {
     "name": "stdout",
     "output_type": "stream",
     "text": [
      "10\n"
     ]
    }
   ],
   "source": [
    "#lungimea multimii\n",
    "a=len(m)\n",
    "print(a)"
   ]
  },
  {
   "cell_type": "code",
   "execution_count": 44,
   "id": "5e5c7ed2",
   "metadata": {},
   "outputs": [
    {
     "name": "stdout",
     "output_type": "stream",
     "text": [
      "Suma =  79\n",
      "MIN =  2\n",
      "Max =  55\n"
     ]
    }
   ],
   "source": [
    "a={2,3,4,55,6,9}\n",
    "# sum(), max(), min()\n",
    "print('Suma = ', sum(a))\n",
    "print('MIN = ', min(a))\n",
    "print('Max = ', max(a))"
   ]
  },
  {
   "cell_type": "code",
   "execution_count": 47,
   "id": "a9831b6b",
   "metadata": {},
   "outputs": [
    {
     "name": "stdout",
     "output_type": "stream",
     "text": [
      "[2, 3, 4, 6, 9, 55]\n"
     ]
    }
   ],
   "source": [
    "# sortarea datelor intr-o multime sorted()\n",
    "print(sorted(a))"
   ]
  },
  {
   "cell_type": "code",
   "execution_count": 50,
   "id": "fbe9b5c8",
   "metadata": {},
   "outputs": [
    {
     "name": "stdout",
     "output_type": "stream",
     "text": [
      "<class 'list'>\n",
      "{2, 3, 4, 5}\n",
      "<class 'set'>\n",
      "[2, 3, 4, 5]\n"
     ]
    }
   ],
   "source": [
    "a=[2,3,4,5]\n",
    "print(type(a))\n",
    "m=set(a)\n",
    "print(m)\n",
    "print(type(m))\n",
    "b=list(m)\n",
    "print(b)"
   ]
  },
  {
   "cell_type": "code",
   "execution_count": 51,
   "id": "6feee331",
   "metadata": {},
   "outputs": [],
   "source": [
    "# homework 4 - \n",
    "# se dau 2 liste cu numere\n",
    "#convertim fiecare lista n multime\n",
    "# sa se determine doua diferente dintre multimi L1-L2, L2-L1\n",
    "# diferentele le convertim in liste\n",
    "# afisam valoarea ambelor diferente sub forma de liste"
   ]
  },
  {
   "cell_type": "code",
   "execution_count": null,
   "id": "061eaa7f",
   "metadata": {},
   "outputs": [],
   "source": [
    "#Se dau doua liste de cuvinte lista1, lista2\n",
    "# convertim in multime\n",
    "#sa scrieti un cod care va gasi elementele comune din aceste doua liste"
   ]
  }
 ],
 "metadata": {
  "kernelspec": {
   "display_name": "Python 3 (ipykernel)",
   "language": "python",
   "name": "python3"
  },
  "language_info": {
   "codemirror_mode": {
    "name": "ipython",
    "version": 3
   },
   "file_extension": ".py",
   "mimetype": "text/x-python",
   "name": "python",
   "nbconvert_exporter": "python",
   "pygments_lexer": "ipython3",
   "version": "3.7.9"
  }
 },
 "nbformat": 4,
 "nbformat_minor": 5
}
