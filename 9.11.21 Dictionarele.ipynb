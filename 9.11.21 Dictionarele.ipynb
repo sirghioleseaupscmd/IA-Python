{
 "cells": [
  {
   "cell_type": "code",
   "execution_count": 1,
   "id": "7b4d932d",
   "metadata": {},
   "outputs": [],
   "source": [
    "#Dictionarele sunt colectii de date neordonate numite articole\n",
    "#articolee sunt formate din keie si valori\n",
    "# {keia:valoarea,keia:valoarea, ...}"
   ]
  },
  {
   "cell_type": "code",
   "execution_count": 2,
   "id": "49db4f2e",
   "metadata": {},
   "outputs": [
    {
     "name": "stdout",
     "output_type": "stream",
     "text": [
      "{}\n",
      "{'nume': 'Puica', 'prenume': 'Natalia', 'varsta': 23, 'H': 165, 'L.str': 'English', 'domeniul': 'Pedagogie'}\n",
      "{'Ana': 'TIC', 'Ion': 'Grafica', 'Andrei': 'Web Design', 'Liliana': 'Audio Video'}\n"
     ]
    }
   ],
   "source": [
    "#crearea dictionarelor\n",
    "# dictionar curat\n",
    "# In calitate de valori putem avea liste, siruri de caractere, tupluri\n",
    "d1={}\n",
    "d2={'nume':'Puica','prenume':'Natalia','varsta':23,'H':165, 'L.str':'English', 'domeniul':'Pedagogie'}\n",
    "d3={'Ana':\"TIC\",\n",
    "   'Ion':\"Grafica\",\n",
    "   'Andrei':\"Web Design\",\n",
    "   'Liliana':\"Audio Video\"}\n",
    "# afisarea dictionarelor\n",
    "print(d1)\n",
    "print(d2)\n",
    "print(d3)"
   ]
  },
  {
   "cell_type": "code",
   "execution_count": 3,
   "id": "d3d97c6b",
   "metadata": {},
   "outputs": [
    {
     "name": "stdout",
     "output_type": "stream",
     "text": [
      "{1: 'Chisinau', 2: 'Balti', 3: 'Drochia', 4: 'Soroca'}\n"
     ]
    }
   ],
   "source": [
    "# crearea unui dictionar cu ajutorul unei functii predefinite\n",
    "d4=dict({1:\"Chisinau\",2:\"Balti\",3:\"Drochia\", 4:\"Soroca\"})\n",
    "print(d4)"
   ]
  },
  {
   "cell_type": "code",
   "execution_count": 4,
   "id": "858508f0",
   "metadata": {},
   "outputs": [
    {
     "name": "stdout",
     "output_type": "stream",
     "text": [
      "None\n"
     ]
    }
   ],
   "source": [
    "# afisam valoarea cunoscand keia\n",
    "k1='numes'\n",
    "print(d2.get(k1))"
   ]
  },
  {
   "cell_type": "code",
   "execution_count": 5,
   "id": "a5709037",
   "metadata": {},
   "outputs": [
    {
     "name": "stdout",
     "output_type": "stream",
     "text": [
      "Ana  -  TIC\n",
      "Ion  -  Grafica\n",
      "Andrei  -  Web Design\n",
      "Liliana  -  Audio Video\n"
     ]
    }
   ],
   "source": [
    "#parcurgerea elementelor din dictionar se va aface cu o functie predefinita\n",
    "# items()\n",
    "d3={'Ana':\"TIC\",\n",
    "   'Ion':\"Grafica\",\n",
    "   'Andrei':\"Web Design\",\n",
    "   'Liliana':\"Audio Video\"}\n",
    "for kei, elem in d3.items():\n",
    "    print(kei,\" - \",elem)\n",
    "#    print(str(kei)+' - '+str(elem))\n",
    "#    print('Datele dict = > %s - %s'%(kei, elem))\n"
   ]
  },
  {
   "cell_type": "code",
   "execution_count": 6,
   "id": "c7791058",
   "metadata": {},
   "outputs": [
    {
     "name": "stdout",
     "output_type": "stream",
     "text": [
      "TIC\n",
      "Grafica\n",
      "Web Design\n",
      "Audio Video\n"
     ]
    }
   ],
   "source": [
    "#PARCURGEREA dictionarului si anume parcurgerea valorilor fiecarui articol(item)\n",
    "for i in d3:\n",
    "    print(d3[i])"
   ]
  },
  {
   "cell_type": "code",
   "execution_count": 7,
   "id": "bf0a67c3",
   "metadata": {},
   "outputs": [
    {
     "name": "stdout",
     "output_type": "stream",
     "text": [
      "4\n"
     ]
    }
   ],
   "source": [
    "# determina lungimea len()\n",
    "print(len(d3))"
   ]
  },
  {
   "cell_type": "code",
   "execution_count": 8,
   "id": "e1477d5a",
   "metadata": {},
   "outputs": [
    {
     "name": "stdout",
     "output_type": "stream",
     "text": [
      "['Ana', 'Ion', 'Andrei', 'Liliana']\n"
     ]
    }
   ],
   "source": [
    "# sa extrag si sa salvez intr-o lista l1 keile dictionarului\n",
    "d3={'Ana':\"TIC\",\n",
    "   'Ion':\"Grafica\",\n",
    "   'Andrei':\"Web Design\",\n",
    "   'Liliana':\"Audio Video\"}\n",
    "l1=list(d3)\n",
    "print(l1)"
   ]
  },
  {
   "cell_type": "code",
   "execution_count": 9,
   "id": "e5022d05",
   "metadata": {},
   "outputs": [
    {
     "name": "stdout",
     "output_type": "stream",
     "text": [
      "['TIC', 'Grafica', 'Web Design', 'Audio Video']\n"
     ]
    }
   ],
   "source": [
    "# extragerea valorilor din dictionar fiind salvate intr-o lista\n",
    "v=list(d3.values())\n",
    "print(v)"
   ]
  },
  {
   "cell_type": "code",
   "execution_count": 10,
   "id": "499096b9",
   "metadata": {},
   "outputs": [
    {
     "name": "stdout",
     "output_type": "stream",
     "text": [
      "Keile dictionarului:  ['Ana', 'Ion', 'Andrei', 'Liliana']\n",
      "Keile inversate:  ['Liliana', 'Andrei', 'Ion', 'Ana']\n"
     ]
    }
   ],
   "source": [
    "# inversarea (metoda predefinita reversed) pote fi realizata cu listele, deci in rezultat la fel obtinem o lista\n",
    "#identificam si salvam cheile intr-o lista\n",
    "l1=list(d3)\n",
    "print(\"Keile dictionarului: \",l1)\n",
    "#inversam keile dictinarului\n",
    "lki=list(reversed(l1))\n",
    "print(\"Keile inversate: \",lki)"
   ]
  },
  {
   "cell_type": "code",
   "execution_count": 11,
   "id": "e429ced0",
   "metadata": {},
   "outputs": [
    {
     "name": "stdout",
     "output_type": "stream",
     "text": [
      "Valorile dictionarului:  ['TIC', 'Grafica', 'Web Design', 'Audio Video']\n",
      "Valorile inversate:  ['Audio Video', 'Web Design', 'Grafica', 'TIC']\n"
     ]
    }
   ],
   "source": [
    "# inversarea valorilor unui dictionar\n",
    "# extragem intr-o lista valorile dictionarului\n",
    "v=list(d3.values())\n",
    "print(\"Valorile dictionarului: \",v)\n",
    "#inversam valorile dictionarului\n",
    "lvi=list(reversed(v))\n",
    "print(\"Valorile inversate: \",lvi)"
   ]
  },
  {
   "cell_type": "code",
   "execution_count": 12,
   "id": "35d51b82",
   "metadata": {},
   "outputs": [
    {
     "name": "stdout",
     "output_type": "stream",
     "text": [
      "[('Ana', 'TIC'), ('Andrei', 'Web Design'), ('Ion', 'Grafica'), ('Liliana', 'Audio Video')]\n"
     ]
    }
   ],
   "source": [
    "# sortarea articolelor (itemilor) din dictionar dupa keite\n",
    "d3={'Ana':\"TIC\", \n",
    "    'Liliana':\"Audio Video\",\n",
    "    'Ion':\"Grafica\",\n",
    "    'Andrei':\"Web Design\"\n",
    "   }\n",
    "sortare=sorted(d3.items())\n",
    "print(sortare)"
   ]
  },
  {
   "cell_type": "code",
   "execution_count": 13,
   "id": "af7e37fa",
   "metadata": {},
   "outputs": [
    {
     "name": "stdout",
     "output_type": "stream",
     "text": [
      "False\n",
      "True\n",
      "True\n"
     ]
    }
   ],
   "source": [
    "# verifica prezenta keitei in dictionar in  sau not in\n",
    "print('Cristinel'in d3)\n",
    "print('Andrei'in d3)\n",
    "print('Olesea' not in d3)"
   ]
  },
  {
   "cell_type": "code",
   "execution_count": 14,
   "id": "efe96bc4",
   "metadata": {},
   "outputs": [
    {
     "name": "stdout",
     "output_type": "stream",
     "text": [
      "{'Ana': 'IA', 'Liliana': 'Audio Video', 'Ion': 'Grafica', 'Andrei': 'Web Design'}\n"
     ]
    }
   ],
   "source": [
    "# Modificarea dictionarelor\n",
    "# inlocuirea/ modificarea valorilor in dictionar\n",
    "d3['Ana']='IA'\n",
    "print(d3)"
   ]
  },
  {
   "cell_type": "code",
   "execution_count": 15,
   "id": "5850286b",
   "metadata": {},
   "outputs": [
    {
     "name": "stdout",
     "output_type": "stream",
     "text": [
      "{'Ana': 'IA', 'Liliana': 'Audio Video', 'Ion': 'Grafica', 'Andrei': 'Web Design', 'Cristina': 'Appleturi Java'}\n"
     ]
    }
   ],
   "source": [
    "# adaugarea articolelor/ itemilor noi in dictionar\n",
    "d3['Cristina']='Appleturi Java'\n",
    "print(d3)"
   ]
  },
  {
   "cell_type": "code",
   "execution_count": 16,
   "id": "193bd1b8",
   "metadata": {},
   "outputs": [
    {
     "name": "stdout",
     "output_type": "stream",
     "text": [
      "{'Liliana': 'Audio Video', 'Ion': 'Grafica', 'Andrei': 'Web Design', 'Cristina': 'Appleturi Java'}\n"
     ]
    }
   ],
   "source": [
    "# stergerea articolelor/ itemilor din dictionar\n",
    "del d3['Ana']\n",
    "print(d3)"
   ]
  },
  {
   "cell_type": "code",
   "execution_count": 17,
   "id": "4592e4b8",
   "metadata": {},
   "outputs": [
    {
     "name": "stdout",
     "output_type": "stream",
     "text": [
      "Grafica\n",
      "{'Liliana': 'Audio Video', 'Andrei': 'Web Design', 'Cristina': 'Appleturi Java'}\n"
     ]
    }
   ],
   "source": [
    "# stergerea articolului cunoscand keia si returnand valoarea keitei\n",
    "k1='Ion'\n",
    "v1=d3.pop(k1)\n",
    "print(v1)\n",
    "print(d3)"
   ]
  },
  {
   "cell_type": "code",
   "execution_count": 18,
   "id": "4b5b9910",
   "metadata": {},
   "outputs": [
    {
     "name": "stdout",
     "output_type": "stream",
     "text": [
      "('Cristina', 'Appleturi Java')\n",
      "{'Liliana': 'Audio Video', 'Andrei': 'Web Design'}\n"
     ]
    }
   ],
   "source": [
    "#stergerea ultimului articol din dictionar\n",
    "print(d3.popitem())\n",
    "print(d3)"
   ]
  },
  {
   "cell_type": "code",
   "execution_count": 19,
   "id": "04e0b1b7",
   "metadata": {},
   "outputs": [
    {
     "name": "stdout",
     "output_type": "stream",
     "text": [
      "{}\n"
     ]
    }
   ],
   "source": [
    "#curatarea dictionarului/ golirea dictionarului\n",
    "d3.clear()\n",
    "print(d3)"
   ]
  },
  {
   "cell_type": "code",
   "execution_count": 20,
   "id": "7ddcae19",
   "metadata": {},
   "outputs": [],
   "source": [
    "# sterge definitiv dictionarul/ eliberam memoria alocata dictionarului\n",
    "del d3"
   ]
  },
  {
   "cell_type": "code",
   "execution_count": 21,
   "id": "b785402b",
   "metadata": {},
   "outputs": [
    {
     "name": "stdout",
     "output_type": "stream",
     "text": [
      "{'b4': None, 'b3': None, 'b2': None, 'b1': None, 'b5': None}\n"
     ]
    }
   ],
   "source": [
    "# Metode/ functii predefinite de prelucrare a dictionarelor\n",
    "#CREAREA UNUI DICTIONAR  avand keile intr-o multime set (fara valori)\n",
    "kn={'b1','b2','b3','b4','b5'}\n",
    "db=dict.fromkeys(kn)\n",
    "print(db)"
   ]
  },
  {
   "cell_type": "code",
   "execution_count": 28,
   "id": "96af2346",
   "metadata": {},
   "outputs": [
    {
     "name": "stdout",
     "output_type": "stream",
     "text": [
      "{'b7': 'Borderou', 'b9': 'Borderou', 'b10': 'Borderou', 'b6': 'Borderou', 'b8': 'Borderou'}\n"
     ]
    }
   ],
   "source": [
    "#CREAREA UNUI DICTIONAR  avand keile intr-o multime set (avand valoarea)\n",
    "kn={'b6','b7','b8','b9','b10'}\n",
    "valoare='Borderou'\n",
    "dn2=dict.fromkeys(kn,valoare)\n",
    "print(dn2)"
   ]
  },
  {
   "cell_type": "code",
   "execution_count": 23,
   "id": "6c6d6a82",
   "metadata": {},
   "outputs": [
    {
     "name": "stdout",
     "output_type": "stream",
     "text": [
      "{'b6': 7.4, 'b7': 6.8, 'b8': 8.9, 'b9': 10, 'b10': 9}\n"
     ]
    }
   ],
   "source": [
    "#crearea algoritmului de creare a dictionarului din kei cunoscute ;i valori repartizate corect\n",
    "dct={}\n",
    "kn=['b6','b7','b8','b9','b10']\n",
    "valori=[7.4, 6.8,8.9, 10, 9]\n",
    "for i in range(len(kn)):\n",
    "    dct[kn[i]]=valori[i]\n",
    "print(dct)"
   ]
  },
  {
   "cell_type": "code",
   "execution_count": 24,
   "id": "314a4213",
   "metadata": {},
   "outputs": [
    {
     "name": "stdout",
     "output_type": "stream",
     "text": [
      "{0: 0, 1: 1, 2: 4, 3: 9, 4: 16, 5: 25, 6: 36, 7: 49, 8: 64, 9: 81, 10: 100, 11: 121, 12: 144, 13: 169, 14: 196, 15: 225, 16: 256, 17: 289, 18: 324, 19: 361, 20: 400}\n"
     ]
    }
   ],
   "source": [
    "#crearea dictionarelor cu valori calculate dupa formula\n",
    "dct2={x:x*x for x in range(21)}\n",
    "print(dct2)"
   ]
  },
  {
   "cell_type": "code",
   "execution_count": 25,
   "id": "91bfbee7",
   "metadata": {},
   "outputs": [
    {
     "name": "stdout",
     "output_type": "stream",
     "text": [
      "{0: 0, 2: 4, 4: 16, 6: 36, 8: 64, 10: 100}\n"
     ]
    }
   ],
   "source": [
    "dct2={x:x*x for x in range(11) if x%2==0}\n",
    "print(dct2)"
   ]
  },
  {
   "cell_type": "code",
   "execution_count": 29,
   "id": "930fa31b",
   "metadata": {},
   "outputs": [],
   "source": [
    "# homework 5\n",
    "# elaborati un algoritm care va determina numarul fiecare vocale din text.\n",
    "# rezultatele sa fie memorate intr-un dictionar ...ex: 'a':5, 'i':12...\n",
    "# utilizati metoda fromkeys()\n",
    "#un string in care salvati vocalele  ??='aeuoi'\n",
    "# alt string in care salvati textul  text=''''''\n",
    "#definim o variabila in care cream un dictionar cu valori nule:\n",
    "# ???={}.fromkeys(??,0)\n",
    "# pentru vocala ce este in text:\n",
    "#     daca vocala este in ???:\n",
    "#           ???[vocala]+=1\n",
    "#printati rezultatul dictionarului"
   ]
  },
  {
   "cell_type": "code",
   "execution_count": 33,
   "id": "167d037c",
   "metadata": {},
   "outputs": [
    {
     "name": "stdout",
     "output_type": "stream",
     "text": [
      "Numarul de note acumulate  Counter({10: 6, 9: 5, 8: 4, 7: 2, 6: 2, 5: 1})\n"
     ]
    }
   ],
   "source": [
    "# utilizarea unui modul collections care ofera diferite tpuri de containere.\n",
    "# Ce are proprietatea de a salva sau stoca diferite obiecte de diferit format\n",
    "import collections\n",
    "note=[10,10,9,8,10,10,7,8,9,9,9,9,10,6,6,7,5,8,8,10]\n",
    "nrnote=collections.Counter(note)\n",
    "print('Numarul de note acumulate ',nrnote)"
   ]
  },
  {
   "cell_type": "code",
   "execution_count": null,
   "id": "dfdb30a2",
   "metadata": {},
   "outputs": [],
   "source": []
  }
 ],
 "metadata": {
  "kernelspec": {
   "display_name": "Python 3 (ipykernel)",
   "language": "python",
   "name": "python3"
  },
  "language_info": {
   "codemirror_mode": {
    "name": "ipython",
    "version": 3
   },
   "file_extension": ".py",
   "mimetype": "text/x-python",
   "name": "python",
   "nbconvert_exporter": "python",
   "pygments_lexer": "ipython3",
   "version": "3.7.9"
  }
 },
 "nbformat": 4,
 "nbformat_minor": 5
}
