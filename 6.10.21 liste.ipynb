{
 "cells": [
  {
   "cell_type": "code",
   "execution_count": 11,
   "id": "d355bffe",
   "metadata": {},
   "outputs": [
    {
     "name": "stdout",
     "output_type": "stream",
     "text": [
      "[2, 45, 21, 34, 12, 10, 11, 'Cuvinte']\n"
     ]
    }
   ],
   "source": [
    "lista4=[2,45,21,34,12,10,11]\n",
    "# adugarea sau inserarea elementelor noi ale listei -adaugate la capatullistei\n",
    "lista4.append('Cuvinte')\n",
    "print(lista4)"
   ]
  },
  {
   "cell_type": "code",
   "execution_count": 12,
   "id": "32e6ba86",
   "metadata": {},
   "outputs": [
    {
     "name": "stdout",
     "output_type": "stream",
     "text": [
      "[2, 45, 34, 12, 10, 11, 'Cuvinte']\n"
     ]
    }
   ],
   "source": [
    "#stergerea unui element din lista indicand pozitia elementului (index)\n",
    "lista4.pop(2)\n",
    "print(lista4)"
   ]
  },
  {
   "cell_type": "code",
   "execution_count": 13,
   "id": "20009f2f",
   "metadata": {},
   "outputs": [
    {
     "name": "stdout",
     "output_type": "stream",
     "text": [
      "[2, 34, 12, 10, 11, 'Cuvinte']\n"
     ]
    }
   ],
   "source": [
    "#stergerea valoarea unui element din lista\n",
    "lista4.remove(45)\n",
    "print(lista4)"
   ]
  },
  {
   "cell_type": "code",
   "execution_count": 20,
   "id": "66e21e25",
   "metadata": {},
   "outputs": [
    {
     "name": "stdout",
     "output_type": "stream",
     "text": [
      "['No', 'No', 2, 'Mijloc', 34, 'No', 'Mijloc', 'Mijloc', 'No', 12, 10, 11, 'Cuvinte', 11, 11, 38, 11]\n"
     ]
    }
   ],
   "source": [
    "#Inserarea elemntelor in lista indicand pozitia unde va fi inclus (indexul)\n",
    "lista4.insert(2,'Mijloc')\n",
    "lista4.insert(0,'No')\n",
    "lista4.insert(5,'No')\n",
    "lista4.append(38)\n",
    "lista4.append(11)\n",
    "print(lista4)"
   ]
  },
  {
   "cell_type": "code",
   "execution_count": 21,
   "id": "9806900c",
   "metadata": {},
   "outputs": [
    {
     "name": "stdout",
     "output_type": "stream",
     "text": [
      "4\n",
      "4\n",
      "3\n"
     ]
    }
   ],
   "source": [
    "#determinam numarul de repetari ale elementelor unui sir\n",
    "print(lista4.count(11))\n",
    "print(lista4.count('No'))\n",
    "print(lista4.count('Mijloc'))"
   ]
  },
  {
   "cell_type": "code",
   "execution_count": 22,
   "id": "d3f18262",
   "metadata": {},
   "outputs": [
    {
     "name": "stdout",
     "output_type": "stream",
     "text": [
      "nr inregistrarii (indexul) febrei de 38 >  15\n"
     ]
    }
   ],
   "source": [
    "# identifica pozitia - indexul- elementului din lista\n",
    "print(\"nr inregistrarii (indexul) febrei de 38 > \",lista4.index(38))"
   ]
  },
  {
   "cell_type": "code",
   "execution_count": 23,
   "id": "37804467",
   "metadata": {},
   "outputs": [
    {
     "name": "stdout",
     "output_type": "stream",
     "text": [
      "Numarul maximal din lista este = >  67\n"
     ]
    }
   ],
   "source": [
    "# determinarea numarului maxim dintro lista de date\n",
    "lista5=[12,23,2,43,67,1,2,3]\n",
    "max=lista5[0]\n",
    "for a in lista5:\n",
    "    if a>max:\n",
    "        max=a\n",
    "print('Numarul maximal din lista este = > ',max)"
   ]
  },
  {
   "cell_type": "code",
   "execution_count": null,
   "id": "6fc97d47",
   "metadata": {},
   "outputs": [],
   "source": [
    "# Tema pentru acasa adaugata la Homework 3\n",
    "#Sa modificati algoritmul pentru determinare a numarului minimal din lista"
   ]
  }
 ],
 "metadata": {
  "kernelspec": {
   "display_name": "Python 3 (ipykernel)",
   "language": "python",
   "name": "python3"
  },
  "language_info": {
   "codemirror_mode": {
    "name": "ipython",
    "version": 3
   },
   "file_extension": ".py",
   "mimetype": "text/x-python",
   "name": "python",
   "nbconvert_exporter": "python",
   "pygments_lexer": "ipython3",
   "version": "3.7.9"
  }
 },
 "nbformat": 4,
 "nbformat_minor": 5
}
