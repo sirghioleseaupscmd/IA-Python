{
 "cells": [
  {
   "cell_type": "code",
   "execution_count": 39,
   "id": "72e54016",
   "metadata": {},
   "outputs": [
    {
     "name": "stdout",
     "output_type": "stream",
     "text": [
      "[1, 2, ['a', 'b'], ['Lista'], 34, 67]\n"
     ]
    }
   ],
   "source": [
    "# Liste sunt create si reprezentate pri paranteze []\n",
    "a=[1,2,['a','b'],[\"Lista\"],34,67]\n",
    "print(a)"
   ]
  },
  {
   "cell_type": "code",
   "execution_count": 40,
   "id": "47bb73d1",
   "metadata": {},
   "outputs": [
    {
     "name": "stdout",
     "output_type": "stream",
     "text": [
      "b\n"
     ]
    }
   ],
   "source": [
    "print(a[2][1])"
   ]
  },
  {
   "cell_type": "code",
   "execution_count": 41,
   "id": "8f5d13ce",
   "metadata": {},
   "outputs": [
    {
     "name": "stdout",
     "output_type": "stream",
     "text": [
      "624\n"
     ]
    }
   ],
   "source": [
    "vector=[3,4,5,612]\n",
    "s=sum(vector)\n",
    "print(s)"
   ]
  },
  {
   "cell_type": "code",
   "execution_count": 42,
   "id": "02a0c3a1",
   "metadata": {},
   "outputs": [
    {
     "name": "stdout",
     "output_type": "stream",
     "text": [
      "[1, 2, ['a', 'b'], ['Lista'], 34, 67, 'Lista']\n"
     ]
    }
   ],
   "source": [
    "# adaugarea unui element nou la sfarsitul sirului\n",
    "a=[1,2,['a','b'],[\"Lista\"],34,67]\n",
    "a.append(\"Lista\")\n",
    "print(a)"
   ]
  },
  {
   "cell_type": "code",
   "execution_count": 43,
   "id": "6baecee3",
   "metadata": {},
   "outputs": [
    {
     "name": "stdout",
     "output_type": "stream",
     "text": [
      "[1, 2, ['a', 'b'], ['Lista'], 34, 67, 'Lista', 'Da', 'NU', 'Nu stiu']\n"
     ]
    }
   ],
   "source": [
    "#adaugarea mai multor elemente la sfarsitul listei\n",
    "a.extend(['Da','NU','Nu stiu'])\n",
    "print(a)"
   ]
  },
  {
   "cell_type": "code",
   "execution_count": 44,
   "id": "9957d183",
   "metadata": {},
   "outputs": [
    {
     "name": "stdout",
     "output_type": "stream",
     "text": [
      "[1, 20, 30, 2, ['Lista'], 34, 67, 'Lista', 'Da', 'NU', 'Nu stiu']\n"
     ]
    }
   ],
   "source": [
    "# adaugarea mai multor elemente in interiorul listei\n",
    "k=1\n",
    "a[k:3]=[20,30,a[k]]\n",
    "print(a)"
   ]
  },
  {
   "cell_type": "code",
   "execution_count": 45,
   "id": "afa85c1e",
   "metadata": {},
   "outputs": [
    {
     "name": "stdout",
     "output_type": "stream",
     "text": [
      "[1, 20, 30, 2, 34, 67, 'Lista', 'Da', 'NU', 'Nu stiu', 'Lista', 'NU']\n"
     ]
    }
   ],
   "source": [
    "# sterge un element din Lista dupa pozitie/ index\n",
    "del a[4]\n",
    "a.append('Lista')\n",
    "a.append('NU')\n",
    "print(a)"
   ]
  },
  {
   "cell_type": "code",
   "execution_count": 46,
   "id": "8c9980d2",
   "metadata": {},
   "outputs": [
    {
     "name": "stdout",
     "output_type": "stream",
     "text": [
      "[1, 20, 30, 2, 34, 67, 'Da', 'NU', 'Nu stiu', 'NU']\n"
     ]
    }
   ],
   "source": [
    "#stergerea elementului unei liste dupa valoarea sa\n",
    "for elem in a:\n",
    "    if elem=='Lista':\n",
    "        a.remove('Lista')\n",
    "print(a)"
   ]
  },
  {
   "cell_type": "code",
   "execution_count": 47,
   "id": "3ee00e94",
   "metadata": {},
   "outputs": [
    {
     "name": "stdout",
     "output_type": "stream",
     "text": [
      "[1, 20, 30, 2, 34, 'Da', 'NU', 'Nu stiu', 'NU']\n"
     ]
    }
   ],
   "source": [
    "#stergerea elementelor dupa index, daca nu indicam valoarea indicelui ne va \n",
    "# returna ultimul element de la sfarsitul listei\n",
    "a.pop(5)\n",
    "print(a)"
   ]
  },
  {
   "cell_type": "code",
   "execution_count": 49,
   "id": "1c81306b",
   "metadata": {},
   "outputs": [
    {
     "name": "stdout",
     "output_type": "stream",
     "text": [
      "\n"
     ]
    }
   ],
   "source": [
    "# stergere intregului string\n",
    "st=\"Cuvant\"\n",
    "st=''\n",
    "print(st)"
   ]
  },
  {
   "cell_type": "code",
   "execution_count": 50,
   "id": "255ec132",
   "metadata": {},
   "outputs": [
    {
     "name": "stdout",
     "output_type": "stream",
     "text": [
      "[[], [], [], [], [], [], [], [], []]\n"
     ]
    }
   ],
   "source": [
    "# stergerea unei liste \n",
    "for i in range(len(a)):\n",
    "    a[i]=[]\n",
    "print(a)"
   ]
  },
  {
   "cell_type": "code",
   "execution_count": 51,
   "id": "ad0a1b3a",
   "metadata": {},
   "outputs": [
    {
     "name": "stdout",
     "output_type": "stream",
     "text": [
      "[]\n"
     ]
    }
   ],
   "source": [
    "# stergerea unei liste utilizand functia clear()\n",
    "a=[1, 20, 30, 2, 34, 'Da', 'NU', 'Nu stiu', 'NU']\n",
    "a.clear()\n",
    "print(a)"
   ]
  },
  {
   "cell_type": "code",
   "execution_count": 52,
   "id": "f21d08b9",
   "metadata": {},
   "outputs": [
    {
     "name": "stdout",
     "output_type": "stream",
     "text": [
      "[1, 2, 4, 8, 16, 32, 64, 128, 256, 512]\n"
     ]
    }
   ],
   "source": [
    "#crearea listei, elementele fiind valori ale unei expresii/reguli\n",
    "l1=[]\n",
    "for i in range (0,10):\n",
    "    l1.append(2**i)\n",
    "print(l1)"
   ]
  },
  {
   "cell_type": "code",
   "execution_count": 53,
   "id": "979ea748",
   "metadata": {},
   "outputs": [
    {
     "name": "stdout",
     "output_type": "stream",
     "text": [
      "[1, 2, 4, 8, 16, 32, 64, 128, 256, 512]\n"
     ]
    }
   ],
   "source": [
    "# aceeasi algorit printr-un cod mai restrans\n",
    "l1=[2**i for i in range(0,10)]\n",
    "print(l1)"
   ]
  },
  {
   "cell_type": "code",
   "execution_count": 54,
   "id": "ccd75065",
   "metadata": {},
   "outputs": [
    {
     "name": "stdout",
     "output_type": "stream",
     "text": [
      "[0, 2, 4, 6, 8, 10, 12, 14, 16, 18]\n"
     ]
    }
   ],
   "source": [
    "# cream o lista din numere pare pana la 20 - algoritm cu cod simplu\n",
    "l2=[]\n",
    "for i in range(0,20):\n",
    "    if i%2==0:\n",
    "        l2.append(i)\n",
    "print(l2)"
   ]
  },
  {
   "cell_type": "code",
   "execution_count": 55,
   "id": "62c1df0c",
   "metadata": {},
   "outputs": [
    {
     "name": "stdout",
     "output_type": "stream",
     "text": [
      "[0, 2, 4, 6, 8, 10, 12, 14, 16, 18]\n"
     ]
    }
   ],
   "source": [
    "# acelasi algoritm cu cod restrans\n",
    "l2=[x for x in range(0,20) if x%2==0]\n",
    "print(l2)"
   ]
  },
  {
   "cell_type": "code",
   "execution_count": 57,
   "id": "e27ebdde",
   "metadata": {},
   "outputs": [
    {
     "name": "stdout",
     "output_type": "stream",
     "text": [
      "['Limbaj Python', 'Programare Python', 'Limbaj C/C++', 'Programare C/C++']\n"
     ]
    }
   ],
   "source": [
    "# crearea unei liste, elementele careia se calculeaxa in baza valorilor altor\n",
    "#doua liste\n",
    "l1=['Python', 'C/C++']\n",
    "l2=['Limbaj', 'Programare']\n",
    "l3=[y+' '+x for x in l1 for y in l2]\n",
    "print(l3)"
   ]
  },
  {
   "cell_type": "code",
   "execution_count": null,
   "id": "c7353c80",
   "metadata": {},
   "outputs": [],
   "source": []
  }
 ],
 "metadata": {
  "kernelspec": {
   "display_name": "Python 3 (ipykernel)",
   "language": "python",
   "name": "python3"
  },
  "language_info": {
   "codemirror_mode": {
    "name": "ipython",
    "version": 3
   },
   "file_extension": ".py",
   "mimetype": "text/x-python",
   "name": "python",
   "nbconvert_exporter": "python",
   "pygments_lexer": "ipython3",
   "version": "3.7.9"
  }
 },
 "nbformat": 4,
 "nbformat_minor": 5
}
