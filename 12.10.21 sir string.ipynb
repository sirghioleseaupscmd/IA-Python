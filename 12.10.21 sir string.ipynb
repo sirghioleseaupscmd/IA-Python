{
 "cells": [
  {
   "cell_type": "code",
   "execution_count": 1,
   "id": "66c5a3f7",
   "metadata": {},
   "outputs": [
    {
     "name": "stdout",
     "output_type": "stream",
     "text": [
      "Elementul '13' se intalneste de  3  ori\n"
     ]
    }
   ],
   "source": [
    "#parcurgea listelor si stringurilor utilizand cuvantul cheie range-valoarea  maxima a rangului(index)\n",
    "d=[12,13,45,40,13,56,79,13]\n",
    "count=0\n",
    "for i in range(len(d)):\n",
    "    if d[i]==13:\n",
    "        count+=1\n",
    "print(\"Elementul '13' se intalneste de \", count, \" ori\")"
   ]
  },
  {
   "cell_type": "code",
   "execution_count": 2,
   "id": "965d8309",
   "metadata": {},
   "outputs": [
    {
     "name": "stdout",
     "output_type": "stream",
     "text": [
      "Elementul '13' se intalneste de  3  ori\n"
     ]
    }
   ],
   "source": [
    "#parcurgea listelor si stringurilor in - includ \n",
    "d=[12,13,45,40,13,56,79,13]\n",
    "count=0\n",
    "for element in d:\n",
    "    if element==13:\n",
    "        count+=1\n",
    "print(\"Elementul '13' se intalneste de \", count, \" ori\")"
   ]
  },
  {
   "cell_type": "code",
   "execution_count": 3,
   "id": "bf74f617",
   "metadata": {},
   "outputs": [
    {
     "name": "stdout",
     "output_type": "stream",
     "text": [
      "[1, 2, 3, 4, 4, 6, 7, 8, 9]\n"
     ]
    }
   ],
   "source": [
    "a=[1,2,3,4]\n",
    "b=[4,6,7,8,9]\n",
    "a.extend(b)\n",
    "print(a)"
   ]
  },
  {
   "cell_type": "code",
   "execution_count": 4,
   "id": "abc766b2",
   "metadata": {},
   "outputs": [
    {
     "name": "stdout",
     "output_type": "stream",
     "text": [
      "Concatenarea stringurilor  Suntem la ore\n",
      "Multiplicarea stringului  Suntem  la ore ... la ore ... la ore ... \n"
     ]
    }
   ],
   "source": [
    "s1=\"Suntem\"\n",
    "s2=\"la ore\"\n",
    "print('Concatenarea stringurilor ', s1+' '+s2)\n",
    "print('Multiplicarea stringului ',s1+' ',(s2+' ... ')*3)"
   ]
  },
  {
   "cell_type": "code",
   "execution_count": 5,
   "id": "9f0be218",
   "metadata": {},
   "outputs": [
    {
     "name": "stdout",
     "output_type": "stream",
     "text": [
      "salutare tuturor! sanatate tuturor.\n",
      "SALUTARE TUTUROR! SANATATE TUTUROR.\n"
     ]
    }
   ],
   "source": [
    "#Text scri cu minuscule sau majuscule\n",
    "s3='''SaLutare tuTuror! SaNaTate tuTuRoR.'''\n",
    "print(s3.lower())\n",
    "print(s3.upper())"
   ]
  },
  {
   "cell_type": "code",
   "execution_count": 6,
   "id": "4426b777",
   "metadata": {},
   "outputs": [
    {
     "name": "stdout",
     "output_type": "stream",
     "text": [
      "SaLutare tuTuror! SaNaTate tuTuRoR.\n",
      "SaLutare tuTuror! bucurie tuTuRoR.\n"
     ]
    }
   ],
   "source": [
    "# Inlocuirea unor caractere cu caractere, inlocuirea cuvintelor cu cuvinte in string\n",
    "s4=s3\n",
    "print(s4)\n",
    "cv='bucurie'\n",
    "s4=s4.replace('SaNaTate',cv)\n",
    "print(s4)"
   ]
  },
  {
   "cell_type": "code",
   "execution_count": 7,
   "id": "dfee5c75",
   "metadata": {
    "scrolled": true
   },
   "outputs": [
    {
     "name": "stdout",
     "output_type": "stream",
     "text": [
      "['SaLutare', 'tuTuror!', 'bucurie', 'tuTuRoR.']\n",
      "SaLutare tuTuror! bucurie tuTuRoR.\n"
     ]
    }
   ],
   "source": [
    "# Separarea textului in cuvinte dupa spatiu intr-o lista\n",
    "s5=s4.split()\n",
    "print(s5)\n",
    "# unirea elementelor din lista in text(string), separate prin spatiu\n",
    "s6=' '.join(s5)\n",
    "print(s6)"
   ]
  },
  {
   "cell_type": "code",
   "execution_count": 8,
   "id": "896f8bcc",
   "metadata": {},
   "outputs": [
    {
     "name": "stdout",
     "output_type": "stream",
     "text": [
      "24\n",
      "2\n"
     ]
    }
   ],
   "source": [
    "#determinam numarul de repetari -count- ale unui substring in string\n",
    "#determinam indexul/prima pozitie a subtringului dintr-un string\n",
    "text='''Nu sunt bine dispusa si\n",
    "nu vreau la serviciu, nu ma dranja. Nu vreau sa plec nicaieri'''\n",
    "n=text.find('nu')\n",
    "print(n)\n",
    "print(text.count('nu'))"
   ]
  },
  {
   "cell_type": "code",
   "execution_count": 9,
   "id": "cba2174f",
   "metadata": {},
   "outputs": [
    {
     "name": "stdout",
     "output_type": "stream",
     "text": [
      "dcba\n"
     ]
    }
   ],
   "source": [
    "# metoda a 4-a de inversare a unui string\n",
    "text='abcd'\n",
    "invtext=''.join(reversed(text))\n",
    "print(invtext)"
   ]
  },
  {
   "cell_type": "code",
   "execution_count": 11,
   "id": "c2549c7c",
   "metadata": {},
   "outputs": [
    {
     "name": "stdout",
     "output_type": "stream",
     "text": [
      "Cristina, Andrei si Liliana\n"
     ]
    }
   ],
   "source": [
    "#Formata textul utilizand functia format()\n",
    "fmt1=\"{}, {} si {}\".format('Cristina', 'Andrei', 'Liliana')\n",
    "print(fmt1)"
   ]
  },
  {
   "cell_type": "code",
   "execution_count": 12,
   "id": "d3f3ecca",
   "metadata": {},
   "outputs": [
    {
     "name": "stdout",
     "output_type": "stream",
     "text": [
      "Andrei, Cristina si Liliana\n"
     ]
    }
   ],
   "source": [
    "fmt2=\"{1}, {0} si {2}\".format('Cristina', 'Andrei', 'Liliana')\n",
    "print(fmt2)"
   ]
  },
  {
   "cell_type": "code",
   "execution_count": 13,
   "id": "d8bbd854",
   "metadata": {},
   "outputs": [
    {
     "name": "stdout",
     "output_type": "stream",
     "text": [
      "Liliana, Cristina si Andrei\n"
     ]
    }
   ],
   "source": [
    "fmt3=\"{l}, {c} si {a}\".format(c='Cristina', a='Andrei', l='Liliana')\n",
    "print(fmt3)"
   ]
  },
  {
   "cell_type": "code",
   "execution_count": 14,
   "id": "803a9207",
   "metadata": {},
   "outputs": [
    {
     "name": "stdout",
     "output_type": "stream",
     "text": [
      "0 1 2 3 4 5 \n",
      "Numele meu este \n",
      " Olesea\n"
     ]
    }
   ],
   "source": [
    "#afisarea rezultatelor\n",
    "for i in range(6):\n",
    "        print(i, end=' ')\n",
    "print('\\nNumele meu este \\n Olesea')"
   ]
  },
  {
   "cell_type": "code",
   "execution_count": 15,
   "id": "6aedc283",
   "metadata": {},
   "outputs": [
    {
     "name": "stdout",
     "output_type": "stream",
     "text": [
      "Valoarea solutiei x este 12.35\n",
      "Valoarea solutiei x este 12.3457\n"
     ]
    }
   ],
   "source": [
    "x=12.345678\n",
    "print('Valoarea solutiei x este %3.2f'%x)\n",
    "print('Valoarea solutiei x este %3.4f'%x)"
   ]
  },
  {
   "cell_type": "code",
   "execution_count": 20,
   "id": "7b52b5ce",
   "metadata": {},
   "outputs": [
    {
     "name": "stdout",
     "output_type": "stream",
     "text": [
      "Introduceti cuvinte separate prin virgula:  doi,albina,xelofon,taur, bold\n",
      " bold,albina,doi,taur,xelofon\n"
     ]
    }
   ],
   "source": [
    "#sortarea cuvintelor separte prin virgula\n",
    "text1=input('Introduceti cuvinte separate prin virgula:  ')\n",
    "lstcvt=text1.split(\",\")\n",
    "print(\",\".join(sorted(lstcvt)))"
   ]
  },
  {
   "cell_type": "code",
   "execution_count": null,
   "id": "862543b2",
   "metadata": {},
   "outputs": [],
   "source": [
    "#Homework 3 Sa determinati daca stringul este sau nu polindrom. 'abc' == 'cba'\n",
    "# Stringul sa fie introdus/citit de la tastatura\n",
    "# utilizand 2 metode de inversare a stringurilor"
   ]
  },
  {
   "cell_type": "code",
   "execution_count": null,
   "id": "f3008fbf",
   "metadata": {},
   "outputs": [],
   "source": []
  }
 ],
 "metadata": {
  "kernelspec": {
   "display_name": "Python 3 (ipykernel)",
   "language": "python",
   "name": "python3"
  },
  "language_info": {
   "codemirror_mode": {
    "name": "ipython",
    "version": 3
   },
   "file_extension": ".py",
   "mimetype": "text/x-python",
   "name": "python",
   "nbconvert_exporter": "python",
   "pygments_lexer": "ipython3",
   "version": "3.7.9"
  }
 },
 "nbformat": 4,
 "nbformat_minor": 5
}
